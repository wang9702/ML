{
 "cells": [
  {
   "cell_type": "markdown",
   "metadata": {},
   "source": [
    "### 一.FFM原理介绍\n",
    "FFM（Field-aware Factorization Machine）是对FM的改进，我们先回顾一下上一节的FM，它对于组合特征$x_ix_j$，设置的权重为$<v_i,v_j>$，而对于组合特征$x_ix_k$，设置的权重为$<x_i,x_k>$，可以发现这两项共享了同一个向量$v_i$，而FFM想法则是：   \n",
    "\n",
    "（1）若特征$x_j$与$x_k$属性类似，即属于同一个field，则利用同一向量$v_i$；   \n",
    "\n",
    "（2）若特征$x_j$与$x_k$属性不相似，即不属于同一个field，则使用不同的$v_i$；   \n",
    "\n",
    "这样学习出来的向量会更有区分性，所以对于$v_i$我们需要对其扩展一个维度来表示field，比如对于$x_ix_j$组合特征，有$v_i\\rightarrow v_{i,f_j}$，这里$f_j$即表示特征$j$所属的field，所以对于之前的FM模型方程，我们需要调整为：   \n",
    "\n",
    "$$\n",
    "y(x)=w_0+\\sum_{i=1}^nw_ix_i+\\sum_{i=1}^{n-1}\\sum_{j=i+1}^n<v_{i,f_j},v_{j,f_i}>x_ix_j\n",
    "$$  \n",
    "\n",
    "这里，$n$表示特征数，如果隐向量维度为$k$，field数量为$f$，那么FFM的组合特征项的参数将会有$nfk$个，是FM模型参数$nk$的$f$倍，那么如何判断不同的特征是否属于同一个field呢，这一般看业务需求，通常同一个特征做one-hot展开后的特征组属于同一个field，下面通过例子来直观感受一下FMM模型特征组合方式，假设某条输入记录如下：   \n",
    "![avatar](./source/17_FFM1.png)\n",
    "\n",
    "这条记录可以编码成5个特征，其中“Genre=Comedy”和“Genre=Drama”属于同一个field，“Price”是数值型，不用One-Hot编码转换。为了方便说明FFM的样本格式，我们将所有的特征和对应的field映射成整数编号。\n",
    "![avatar](./source/17_FFM2.png)\n",
    "那么，FFM的组合特征有$(4*5)/2=10$项，如下图所示  \n",
    "![avatar](./source/17_FFM3.png)  \n",
    "\n",
    "需要注意的一点是同一个field之间的特征也可以构造组合特征（虽然one-hot展开后的特征没有组合的必要），接下来我们还需要推导一下梯度的求解，通过求解如下：  \n",
    "\n",
    "\n",
    "$$\n",
    "\\frac{\\partial}{\\partial\\theta}y(x)=\\left\\{\\begin{matrix}\n",
    "1 &\\theta=w_0 \\\\ \n",
    "x_i &\\theta=w_i \\\\ \n",
    "v_{j,f_i,l}x_ix_j & \\theta=v_{i,f_j,l}\n",
    "\\end{matrix}\\right.\n",
    "$$  \n",
    "\n",
    "这里，需要特别说明一下，对于$v$，采用逐特征组合的方式进行更新，故$1\\leq i\\leq j\\leq n$，$1\\leq l\\leq k$表示隐含量维度，所以时间复杂度会比较高为$O(kn^2)$"
   ]
  },
  {
   "cell_type": "markdown",
   "metadata": {},
   "source": [
    "### 二.代码实现\n",
    "这一节还是先对回归任务做实现，损失函数还是采用平方损失，同上一节一样，可以得到梯度：   \n",
    "\n",
    "$$\n",
    "\\frac{\\partial L(\\theta)}{\\partial\\theta}=(y(x)-t)\\cdot\\left\\{\\begin{matrix}\n",
    "1 &\\theta=w_0 \\\\ \n",
    "x_i &\\theta=w_i \\\\ \n",
    "v_{j,f_i,l}x_ix_j & \\theta=v_{i,f_j,l}\n",
    "\\end{matrix}\\right.\n",
    "$$   \n",
    "\n",
    "另外对FFM补充一个功能，对于输入的特征，我们也许并不是都想要参与特征组合，这时可以将这部分特征的field id设置为负数，将其过滤掉，其余的field id取值0,1,2...即可"
   ]
  },
  {
   "cell_type": "code",
   "execution_count": 1,
   "metadata": {},
   "outputs": [],
   "source": [
    "\"\"\"\n",
    "FFM因子分解机的实现，代码封装到ml_models.fm中\n",
    "\"\"\"\n",
    "import numpy as np\n",
    "\n",
    "\n",
    "class FFM(object):\n",
    "    def __init__(self, epochs=1, lr=1e-3, adjust_lr=True, batch_size=1, hidden_dim=4, lamb=1e-3, alpha=1e-3,\n",
    "                 normal=True, solver='adam', rho_1=0.9, rho_2=0.999, early_stopping_rounds=100):\n",
    "        \"\"\"\n",
    "\n",
    "        :param epochs: 迭代轮数\n",
    "        :param lr: 学习率\n",
    "        :param adjust_lr:是否根据特征数量再次调整学习率 max(lr,1/n_feature)\n",
    "        :param batch_size:\n",
    "        :param hidden_dim:隐变量维度\n",
    "        :param lamb:l2正则项系数\n",
    "        :param alpha:l1正则项系数\n",
    "        :param normal:是否归一化，默认用min-max归一化\n",
    "        :param solver:优化方式，包括sgd,adam,默认adam\n",
    "        :param rho_1:adam的rho_1的权重衰减,solver=adam时生效\n",
    "        :param rho_2:adam的rho_2的权重衰减,solver=adam时生效\n",
    "        :param early_stopping_rounds:对early_stopping进行支持，使用rmse作为评估指标，默认20\n",
    "        \"\"\"\n",
    "        self.epochs = epochs\n",
    "        self.lr = lr\n",
    "        self.adjust_lr = adjust_lr\n",
    "        self.batch_size = batch_size\n",
    "        self.hidden_dim = hidden_dim\n",
    "        self.lamb = lamb\n",
    "        self.alpha = alpha\n",
    "        self.solver = solver\n",
    "        self.rho_1 = rho_1\n",
    "        self.rho_2 = rho_2\n",
    "        self.early_stopping_rounds = early_stopping_rounds\n",
    "        # 初始化参数\n",
    "        self.w = None  # w_0,w_i\n",
    "        self.V = None  # v_{i,f}\n",
    "        # 归一化\n",
    "        self.normal = normal\n",
    "        if normal:\n",
    "            self.xmin = None\n",
    "            self.xmax = None\n",
    "        # 功能性参数\n",
    "        self.replace_ind = None  # 置换index\n",
    "        self.positive_ind = None  # 参与特征组合的开始id\n",
    "        self.fields = []  # replace_ind后的fields\n",
    "        self.field_num = None\n",
    "\n",
    "    def _y(self, X):\n",
    "        \"\"\"\n",
    "        实现y(x)的功能\n",
    "        :param X:\n",
    "        :return:\n",
    "        \"\"\"\n",
    "        # 去掉第一列bias以及非组合特征\n",
    "        X_ = X[:, self.positive_ind + 1:]\n",
    "        n_sample, n_feature = X_.shape\n",
    "        pol = np.zeros(n_sample)\n",
    "        for i in range(0, n_feature - 1):\n",
    "            for j in range(i + 1, n_feature):\n",
    "                pol += X_[:, i] * X_[:, j] * np.dot(self.V[i, self.fields[self.positive_ind + j]],\n",
    "                                                    self.V[j, self.fields[self.positive_ind + i]])\n",
    "        return X @ self.w.reshape(-1) + pol\n",
    "\n",
    "    def fit(self, X, y, eval_set=None, show_log=False, fields=None):\n",
    "        \"\"\"\n",
    "        :param X:\n",
    "        :param y:\n",
    "        :param eval_set:\n",
    "        :param show_log:\n",
    "        :param fields: 为None时，退化为FM\n",
    "        :return:\n",
    "        \"\"\"\n",
    "        X_o = X.copy()\n",
    "\n",
    "        # 归一化\n",
    "        if self.normal:\n",
    "            self.xmin = X.min(axis=0)\n",
    "            self.xmax = X.max(axis=0)\n",
    "            X = (X - self.xmin) / self.xmax\n",
    "\n",
    "        n_sample, n_feature = X.shape\n",
    "        # 处理fields\n",
    "        if fields is None:\n",
    "            self.replace_ind = list(range(0, n_feature))\n",
    "            self.positive_ind = 0\n",
    "            self.fields = [0] * n_feature\n",
    "            self.field_num = 1\n",
    "        else:\n",
    "            self.replace_ind = np.argsort(fields).tolist()\n",
    "            self.positive_ind = np.sum([1 if item < 0 else 0 for item in fields])\n",
    "            self.fields = sorted(fields)\n",
    "            self.field_num = len(set(self.fields[self.positive_ind:]))\n",
    "\n",
    "        # reshape X\n",
    "        X = X[:, self.replace_ind]\n",
    "\n",
    "        x_y = np.c_[np.ones(n_sample), X, y]\n",
    "        # 记录loss\n",
    "        train_losses = []\n",
    "        eval_losses = []\n",
    "        # 调整一下学习率\n",
    "        if self.adjust_lr:\n",
    "            self.lr = max(self.lr, 1 / n_feature)\n",
    "        # 初始化参数\n",
    "        self.w = np.random.random((n_feature + 1, 1)) * 1e-3\n",
    "        self.V = np.random.random((n_feature - self.positive_ind, self.field_num, self.hidden_dim)) * 1e-3\n",
    "        if self.solver == 'adam':\n",
    "            # 缓存梯度一阶，二阶估计\n",
    "            w_1 = np.zeros_like(self.w)\n",
    "            V_1 = np.zeros_like(self.V)\n",
    "            w_2 = np.zeros_like(self.w)\n",
    "            V_2 = np.zeros_like(self.V)\n",
    "        # 更新参数\n",
    "        count = 0\n",
    "        for epoch in range(self.epochs):\n",
    "            # 验证集记录\n",
    "            best_eval_value = np.power(2., 1023)\n",
    "            eval_count = 0\n",
    "            np.random.shuffle(x_y)\n",
    "            for index in range(x_y.shape[0] // self.batch_size):\n",
    "                count += 1\n",
    "                batch_x_y = x_y[self.batch_size * index:self.batch_size * (index + 1)]\n",
    "                batch_x = batch_x_y[:, :-1]\n",
    "                batch_y = batch_x_y[:, -1:]\n",
    "                # 计算y(x)-t\n",
    "                y_x_t = self._y(batch_x).reshape((-1, 1)) - batch_y\n",
    "                # 更新w\n",
    "                if self.solver == 'sgd':\n",
    "                    self.w = self.w - (self.lr * (np.sum(y_x_t * batch_x, axis=0) / self.batch_size).reshape(\n",
    "                        (-1, 1)) + self.lamb * self.w + self.alpha * np.where(self.w > 0, 1, 0))\n",
    "                elif self.solver == 'adam':\n",
    "                    w_reg = self.lamb * self.w + self.alpha * np.where(self.w > 0, 1, 0)\n",
    "                    w_grad = (np.sum(y_x_t * batch_x, axis=0) / self.batch_size).reshape(\n",
    "                        (-1, 1)) + w_reg\n",
    "                    w_1 = self.rho_1 * w_1 + (1 - self.rho_1) * w_grad\n",
    "                    w_2 = self.rho_2 * w_2 + (1 - self.rho_2) * w_grad * w_grad\n",
    "                    w_1_ = w_1 / (1 - np.power(self.rho_1, count))\n",
    "                    w_2_ = w_2 / (1 - np.power(self.rho_2, count))\n",
    "                    self.w = self.w - (self.lr * w_1_) / (np.sqrt(w_2_) + 1e-8)\n",
    "\n",
    "                # 更新 V\n",
    "                batch_x_ = batch_x[:, 1 + self.positive_ind:]\n",
    "                # 逐元素更新\n",
    "                for i in range(0, batch_x_.shape[1] - 1):\n",
    "                    for j in range(i + 1, batch_x_.shape[1]):\n",
    "                        for k in range(0, self.hidden_dim):\n",
    "                            v_reg_l = self.lamb * self.V[i, self.fields[self.positive_ind + j], k] + \\\n",
    "                                      self.alpha * (self.V[i, self.fields[self.positive_ind + j], k] > 0)\n",
    "\n",
    "                            v_grad_l = np.sum(y_x_t.reshape(-1) * batch_x_[:, i] * batch_x_[:, j] *\n",
    "                                              self.V[\n",
    "                                                  j, self.fields[self.positive_ind + i], k]) / self.batch_size + v_reg_l\n",
    "\n",
    "                            v_reg_r = self.lamb * self.V[j, self.fields[self.positive_ind + i], k] + \\\n",
    "                                      self.alpha * (self.V[j, self.fields[self.positive_ind + i], k] > 0)\n",
    "\n",
    "                            v_grad_r = np.sum(y_x_t.reshape(-1) * batch_x_[:, i] * batch_x_[:, j] *\n",
    "                                              self.V[\n",
    "                                                  i, self.fields[self.positive_ind + j], k]) / self.batch_size + v_reg_r\n",
    "\n",
    "                            if self.solver == \"sgd\":\n",
    "                                self.V[i, self.fields[self.positive_ind + j], k] -= self.lr * v_grad_l\n",
    "                                self.V[j, self.fields[self.positive_ind + i], k] -= self.lr * v_grad_r\n",
    "                            elif self.solver == \"adam\":\n",
    "                                V_1[i, self.fields[self.positive_ind + j], k] = self.rho_1 * V_1[\n",
    "                                    i, self.fields[self.positive_ind + j], k] + (1 - self.rho_1) * v_grad_l\n",
    "                                V_2[i, self.fields[self.positive_ind + j], k] = self.rho_2 * V_2[\n",
    "                                    i, self.fields[self.positive_ind + j], k] + (1 - self.rho_2) * v_grad_l * v_grad_l\n",
    "                                v_1_l = V_1[i, self.fields[self.positive_ind + j], k] / (\n",
    "                                1 - np.power(self.rho_1, count))\n",
    "                                v_2_l = V_2[i, self.fields[self.positive_ind + j], k] / (\n",
    "                                1 - np.power(self.rho_2, count))\n",
    "\n",
    "                                V_1[j, self.fields[self.positive_ind + i], k] = self.rho_1 * V_1[\n",
    "                                    j, self.fields[self.positive_ind + i], k] + (1 - self.rho_1) * v_grad_r\n",
    "                                V_2[j, self.fields[self.positive_ind + i], k] = self.rho_2 * V_2[\n",
    "                                    j, self.fields[self.positive_ind + i], k] + (1 - self.rho_2) * v_grad_r * v_grad_r\n",
    "                                v_1_r = V_1[j, self.fields[self.positive_ind + i], k] / (\n",
    "                                1 - np.power(self.rho_1, count))\n",
    "                                v_2_r = V_2[j, self.fields[self.positive_ind + i], k] / (\n",
    "                                1 - np.power(self.rho_2, count))\n",
    "\n",
    "                                self.V[i, self.fields[self.positive_ind + j], k] -= (self.lr * v_1_l) / (np.sqrt(v_2_l) + 1e-8)\n",
    "\n",
    "                                self.V[j, self.fields[self.positive_ind + i], k] -= (self.lr * v_1_r) / (np.sqrt(v_2_r) + 1e-8)\n",
    "\n",
    "                # 计算eval loss\n",
    "                eval_loss = None\n",
    "                if eval_set is not None:\n",
    "                    eval_x, eval_y = eval_set\n",
    "                    eval_loss = np.std(eval_y - self.predict(eval_x))\n",
    "                    eval_losses.append(eval_loss)\n",
    "                # 是否显示\n",
    "                if show_log:\n",
    "                    train_loss = np.std(y - self.predict(X_o))\n",
    "                    print(\"epoch:\", epoch + 1, \"/\", self.epochs, \",samples:\", (index + 1) * self.batch_size, \"/\",\n",
    "                          n_sample,\n",
    "                          \",train loss:\",\n",
    "                          train_loss, \",eval loss:\", eval_loss)\n",
    "                    train_losses.append(train_loss)\n",
    "                # 是否早停\n",
    "                if eval_loss is not None and self.early_stopping_rounds is not None:\n",
    "                    if eval_loss < best_eval_value:\n",
    "                        eval_count = 0\n",
    "                        best_eval_value = eval_loss\n",
    "                    else:\n",
    "                        eval_count += 1\n",
    "                    if eval_count >= self.early_stopping_rounds:\n",
    "                        print(\"---------------early_stopping-----------------------------\")\n",
    "                        break\n",
    "\n",
    "        return train_losses, eval_losses\n",
    "\n",
    "    def predict(self, X):\n",
    "        \"\"\"\n",
    "        :param X:\n",
    "        :return:\n",
    "        \"\"\"\n",
    "        # 归一化\n",
    "        if self.normal:\n",
    "            X = (X - self.xmin) / self.xmax\n",
    "        # reshape\n",
    "        X = X[:, self.replace_ind]\n",
    "        # 去掉非组合特征\n",
    "        X_ = X[:, self.positive_ind:]\n",
    "        n_sample, n_feature = X_.shape\n",
    "        pol = np.zeros(n_sample)\n",
    "        for i in range(0, n_feature - 1):\n",
    "            for j in range(i + 1, n_feature):\n",
    "                pol += X_[:, i] * X_[:, j] * np.dot(self.V[i, self.fields[self.positive_ind + j]],\n",
    "                                                    self.V[j, self.fields[self.positive_ind + i]])\n",
    "        return np.c_[np.ones(n_sample), X] @ self.w.reshape(-1) + pol"
   ]
  },
  {
   "cell_type": "markdown",
   "metadata": {},
   "source": [
    "### 三.测试"
   ]
  },
  {
   "cell_type": "code",
   "execution_count": 2,
   "metadata": {},
   "outputs": [],
   "source": [
    "import matplotlib.pyplot as plt\n",
    "%matplotlib inline"
   ]
  },
  {
   "cell_type": "code",
   "execution_count": 3,
   "metadata": {},
   "outputs": [],
   "source": [
    "#造伪数据\n",
    "data1 = np.linspace(1, 10, num=100)\n",
    "data2 = np.linspace(1, 10, num=100) + np.random.random(size=100)\n",
    "data3 = np.linspace(10, 1, num=100)\n",
    "target = data1 * 2 + data3 * 0.1 + data2 * 1 + 10 * data1 * data2 + np.random.random(size=100)\n",
    "data = np.c_[data1, data2, data3]"
   ]
  },
  {
   "cell_type": "code",
   "execution_count": 4,
   "metadata": {},
   "outputs": [],
   "source": [
    "from sklearn.model_selection import train_test_split\n",
    "X_train, X_test, y_train, y_test = train_test_split(data, target, test_size=0.4, random_state=0)"
   ]
  },
  {
   "cell_type": "markdown",
   "metadata": {},
   "source": [
    "`fields`默认为None，这时FMM退化为FM，另外训练日志默认设置为了`show_log=False`"
   ]
  },
  {
   "cell_type": "code",
   "execution_count": 5,
   "metadata": {},
   "outputs": [],
   "source": [
    "#训练模型\n",
    "model = FFM(epochs=5)\n",
    "train_losses,eval_losses = model.fit(X_train, y_train, eval_set=(X_test,y_test))"
   ]
  },
  {
   "cell_type": "code",
   "execution_count": 6,
   "metadata": {},
   "outputs": [
    {
     "data": {
      "text/plain": [
       "[<matplotlib.lines.Line2D at 0x20738deb828>]"
      ]
     },
     "execution_count": 6,
     "metadata": {},
     "output_type": "execute_result"
    },
    {
     "data": {
      "image/png": "[encoded data removed]",
      "text/plain": [
       "<matplotlib.figure.Figure at 0x20738deb860>"
      ]
     },
     "metadata": {},
     "output_type": "display_data"
    }
   ],
   "source": [
    "#查看拟合效果\n",
    "plt.scatter(data[:, 0], target)\n",
    "plt.plot(data[:, 0], model.predict(data), color='r')"
   ]
  },
  {
   "cell_type": "markdown",
   "metadata": {},
   "source": [
    "从造伪数据的过程，我们知道只有第一个和第二个特征有交叉，我们可以将第三个特征的field id设置为-1，使其不参与交叉"
   ]
  },
  {
   "cell_type": "code",
   "execution_count": 7,
   "metadata": {},
   "outputs": [
    {
     "data": {
      "text/plain": [
       "[<matplotlib.lines.Line2D at 0x20736b56080>]"
      ]
     },
     "execution_count": 7,
     "metadata": {},
     "output_type": "execute_result"
    },
    {
     "data": {
      "image/png": "[encoded data removed]",
      "text/plain": [
       "<matplotlib.figure.Figure at 0x20736b44be0>"
      ]
     },
     "metadata": {},
     "output_type": "display_data"
    }
   ],
   "source": [
    "model = FFM(epochs=5)\n",
    "train_losses,eval_losses = model.fit(X_train, y_train, eval_set=(X_test,y_test),fields=[0,0,-1])\n",
    "plt.scatter(data[:, 0], target)\n",
    "plt.plot(data[:, 0], model.predict(data), color='r')"
   ]
  },
  {
   "cell_type": "markdown",
   "metadata": {},
   "source": [
    "上面第一个特征和第二个特征的归为了同一个field（都为0），当然我们也可以将它们归为不同的field"
   ]
  },
  {
   "cell_type": "code",
   "execution_count": 8,
   "metadata": {},
   "outputs": [
    {
     "data": {
      "text/plain": [
       "[<matplotlib.lines.Line2D at 0x2073af13b38>]"
      ]
     },
     "execution_count": 8,
     "metadata": {},
     "output_type": "execute_result"
    },
    {
     "data": {
      "image/png": "[encoded data removed]",
      "text/plain": [
       "<matplotlib.figure.Figure at 0x2073af13a20>"
      ]
     },
     "metadata": {},
     "output_type": "display_data"
    }
   ],
   "source": [
    "model = FFM(epochs=5)\n",
    "train_losses,eval_losses = model.fit(X_train, y_train, eval_set=(X_test,y_test),fields=[0,1,-1])\n",
    "plt.scatter(data[:, 0], target)\n",
    "plt.plot(data[:, 0], model.predict(data), color='r')"
   ]
  },
  {
   "cell_type": "markdown",
   "metadata": {},
   "source": [
    "当然，我们也可以将每个特征设置为不同的field..."
   ]
  },
  {
   "cell_type": "code",
   "execution_count": 9,
   "metadata": {},
   "outputs": [
    {
     "data": {
      "text/plain": [
       "[<matplotlib.lines.Line2D at 0x2073af814e0>]"
      ]
     },
     "execution_count": 9,
     "metadata": {},
     "output_type": "execute_result"
    },
    {
     "data": {
      "image/png": "[encoded data removed]",
      "text/plain": [
       "<matplotlib.figure.Figure at 0x2073af81128>"
      ]
     },
     "metadata": {},
     "output_type": "display_data"
    }
   ],
   "source": [
    "model = FFM(epochs=5)\n",
    "train_losses,eval_losses = model.fit(X_train, y_train, eval_set=(X_test,y_test),fields=[0,1,2])\n",
    "plt.scatter(data[:, 0], target)\n",
    "plt.plot(data[:, 0], model.predict(data), color='r')"
   ]
  },
  {
   "cell_type": "code",
   "execution_count": null,
   "metadata": {},
   "outputs": [],
   "source": []
  }
 ],
 "metadata": {
  "kernelspec": {
   "display_name": "Python 3",
   "language": "python",
   "name": "python3"
  },
  "language_info": {
   "codemirror_mode": {
    "name": "ipython",
    "version": 3
   },
   "file_extension": ".py",
   "mimetype": "text/x-python",
   "name": "python",
   "nbconvert_exporter": "python",
   "pygments_lexer": "ipython3",
   "version": "3.6.4"
  }
 },
 "nbformat": 4,
 "nbformat_minor": 2
}
