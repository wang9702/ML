{
 "cells": [
  {
   "cell_type": "markdown",
   "metadata": {},
   "source": [
    "上一节主要基于PRML中10.3节的内容，利用变分推断实现了贝叶斯线性回归，并且效果还不错，但是呢，还留下了一个超参数$\\beta$需要人工设定，这一节我们假设$\\beta$也来源于一个Gamma分布，然后利用变分推断来求解，所以接下来的推导会和上一节有很多相同的地方，但为了完整性还是将这部分内容copy过来"
   ]
  },
  {
   "cell_type": "markdown",
   "metadata": {},
   "source": [
    "### 一.联合概率分布\n",
    "贝叶斯线性回归的图模型如下  \n",
    "![avatar](./source/15_VI_贝叶斯线性回归图模型.png)\n",
    "我们的似然函数和共轭先验可以假设如下：   \n",
    "\n",
    "$$\n",
    "p(t\\mid w,\\beta)=\\prod_{n=1}^N N(t_n\\mid w^T\\phi(x_n),\\beta^{-1})\\\\\n",
    "p(w\\mid \\alpha)=N(w\\mid 0,\\alpha^{-1}I)\\\\\n",
    "p(\\alpha)=Gam(\\alpha\\mid a_0,b_0)\\\\\n",
    "p(\\beta)=Gam(\\beta\\mid a_1,b_1)\n",
    "$$  \n",
    "这里，$X=\\{x_1,x_2,...,x_N\\}$，$I$为单位矩阵，所以所有变量上的联合概率分布为：     \n",
    "\n",
    "$$\n",
    "p(t,w,\\alpha,\\beta)=p(t\\mid w,\\beta)p(w\\mid\\alpha)p(\\alpha)p(\\beta)\n",
    "$$"
   ]
  },
  {
   "cell_type": "markdown",
   "metadata": {},
   "source": [
    "### 二.变分分布\n",
    "接下来，我们就是要构建一个变分分布$q(w,\\alpha,\\beta)$去近似后验概率分布$p(w,\\alpha,\\beta\\mid t)$，利用平均场假设，令：   \n",
    "\n",
    "$$\n",
    "q(w,\\alpha,\\beta)=q(w)q(\\alpha)q(\\beta)\n",
    "$$  \n",
    "\n",
    "根据VI第一节最后推导的公式，我们可以直接写出最优解：   \n",
    "\n",
    "$$\n",
    "ln\\ q^*(\\alpha)=ln\\ p(\\alpha)+E_w[ln\\ p(w\\mid\\alpha)]+const\\\\\n",
    "=(a_0-1)ln\\ \\alpha-b_0\\alpha+\\frac{M}{2}ln\\ \\alpha-\\frac{\\alpha}{2}E[w^Tw]+const\n",
    "$$  \n",
    "\n",
    "可以发现这个Gamma分布取对数的形式，通过观察系数项，我们有  \n",
    "\n",
    "$$\n",
    "q^*(\\alpha)=Gam(a\\mid a_N,b_N)\n",
    "$$  \n",
    "\n",
    "其中  \n",
    "\n",
    "$$\n",
    "a_N=a_0+\\frac{M}{2}\\\\\n",
    "b_N=b_0+\\frac{1}{2}E[w^Tw]\n",
    "$$  \n",
    "\n",
    "同样的方式，我们可以求解$q^*(w)$：   \n",
    "\n",
    "$$\n",
    "ln\\ q^*(w)=E_\\beta[ln\\ p(t\\mid w,\\beta)]+E_\\alpha[ln\\ p(w\\mid \\alpha)]+const\\\\\n",
    "=-\\frac{E[\\beta]}{2}\\sum_{n=1}^N\\left \\{w^T\\phi(x_n)-t_n\\right \\}^2-\\frac{1}{2}E[\\alpha]w^Tw+const\\\\\n",
    "=-\\frac{1}{2}w^T(E[\\alpha]I+E[\\beta]\\Phi^T\\Phi)w+E[\\beta] w^T\\Phi^Tt+const\n",
    "$$  \n",
    "\n",
    "可以发现这是关于$w$的二次型，所以$q^*(w)$是一个高斯分布，通过配方可以得到：   \n",
    "\n",
    "$$\n",
    "q^*(w)=N(w\\mid m_N,S_N)\n",
    "$$  \n",
    "\n",
    "其中   \n",
    "\n",
    "$$\n",
    "m_N=E[\\beta] S_N\\Phi^Tt\\\\\n",
    "S_N=(E[\\alpha]I+E[\\beta]\\Phi^T\\Phi)^{-1}\n",
    "$$  \n",
    "\n",
    "可以发现，相比于上一节，$\\alpha,\\beta$分别变为了$E[\\alpha],E[\\beta]$   \n",
    "\n",
    "接下来就是$q^*(\\beta)$：\n",
    "\n",
    "$$\n",
    "ln\\ q^*(\\beta)=ln\\ p(\\beta)+E_w[ln\\ p(t\\mid w,\\beta)]+const\\\\\n",
    "=(a_1-1)ln\\ \\beta-b_1\\beta+\\frac{N}{2}ln\\ \\beta-\\frac{\\beta}{2}E_w[(t-\\Phi w^T)^T(t-\\Phi w^T)]\n",
    "$$  \n",
    "\n",
    "显然，这也是一个Gamma分布取对数的形式，它的形式如下：   \n",
    "$$\n",
    "q^*(\\beta)=Gam(\\beta\\mid a_M,b_M)\n",
    "$$  \n",
    "其中  \n",
    "\n",
    "$$\n",
    "a_M=a_1+\\frac{N}{2}\\\\\n",
    "b_M=b_1+\\frac{1}{2}E_w[(t-\\Phi w^T)^T(t-\\Phi w^T)]\n",
    "$$"
   ]
  },
  {
   "cell_type": "markdown",
   "metadata": {},
   "source": [
    "### 三.迭代求解\n",
    "\n",
    "同样地，$q^*(w),q^*(\\alpha),q^*(\\beta)$之间互相耦合，$q^*(w)$中需要用到$E[\\alpha],E[\\beta]$，$q^*(\\alpha)$中需要用到$E[w^Tw]$，而$q^*(\\beta)$需要用到$E_w[(t-\\Phi w^T)^T(t-\\Phi w^T)]$，根据Gamma分布和高斯分布的性质，我们可以写出这几个期望的求解公式   \n",
    "\n",
    "$$\n",
    "E[\\alpha]=\\frac{a_N}{b_N}\\\\\n",
    "E[\\beta]=\\frac{a_M}{b_M}\\\\\n",
    "E[w^Tw]=m_N^Tm_N+Tr(S_N)\\\\\n",
    "E_w[(t-\\Phi w^T)^T(t-\\Phi w^T)]=E_w[w^T\\Phi^T\\Phi w]-2E_w[w^T\\Phi^Tt]+t^Tt\\\\\n",
    "=m_N^T\\Phi^T\\Phi m_N+Tr(\\Phi S_N\\Phi^T)-2m_N^T\\Phi^Tt+t^Tt\n",
    "$$  \n",
    "\n",
    "那么，我们初始随意为$E[\\alpha],E[\\beta]$赋予一个大于0的值，就可以迭代起来了：$E_0[\\alpha]\\rightarrow E_0[\\beta]\\rightarrow E_0[w^Tw]\\rightarrow E_0[(t-\\Phi w^T)^T(t-\\Phi w^T)] \\rightarrow  \\cdots$"
   ]
  },
  {
   "cell_type": "markdown",
   "metadata": {},
   "source": [
    "### 四.预测分布\n",
    "\n",
    "该过程与上一节一样   \n",
    "\n",
    "$$\n",
    "p(\\hat{t}\\mid \\hat{x},t)=\\int p(\\hat{t}\\mid\\hat{x},w)p(w\\mid t)dw\\\\\n",
    "\\simeq \\int p(\\hat{t}\\mid\\hat{x},w)q(w)dw\\\\\n",
    "=\\int N(\\hat{t}\\mid w^T\\phi(\\hat{x}),\\beta^{-1})N(w\\mid m_N,S_N)dw\\\\\n",
    "=N(\\hat{t}\\mid m_N^T\\phi(\\hat{x}),\\sigma^2(\\hat{x}))\n",
    "$$  \n",
    "\n",
    "这里$\\sigma^2(\\hat{x})=\\frac{1}{\\beta}+\\phi(\\hat{x})^TS_N\\phi(\\hat{x})$"
   ]
  },
  {
   "cell_type": "markdown",
   "metadata": {},
   "source": [
    "### 五.代码实现"
   ]
  },
  {
   "cell_type": "code",
   "execution_count": 1,
   "metadata": {},
   "outputs": [],
   "source": [
    "\"\"\"\n",
    "代码同样封装到ml_models.vi中，上一vi版本的类名改为LinearRegression1\n",
    "\"\"\"\n",
    "import numpy as np\n",
    "import matplotlib.pyplot as plt\n",
    "\n",
    "\n",
    "class LinearRegression(object):\n",
    "    def __init__(self, basis_func=None, tol=1e-5, epochs=100):\n",
    "        \"\"\"\n",
    "        :param basis_func: list,基函数列表，包括rbf,sigmoid,poly_{num},linear，fm,默认None为linear，其中poly_{num}中的{num}表示多项式的最高阶数,fm表示构建交叉因子\n",
    "        :param tol:  两次迭代参数平均绝对值变化小于tol则停止\n",
    "        :param epochs: 默认迭代次数\n",
    "        \"\"\"\n",
    "        if basis_func is None:\n",
    "            self.basis_func = ['linear']\n",
    "        else:\n",
    "            self.basis_func = basis_func\n",
    "        self.tol = tol\n",
    "        self.epochs = epochs\n",
    "        # 特征均值、标准差\n",
    "        self.feature_mean = None\n",
    "        self.feature_std = None\n",
    "        # 训练参数，也就是m_N\n",
    "        self.w = None\n",
    "\n",
    "    def _map_basis(self, X):\n",
    "        \"\"\"\n",
    "        将X进行基函数映射\n",
    "        :param X:\n",
    "        :return:\n",
    "        \"\"\"\n",
    "        n_sample, n_feature = X.shape\n",
    "        x_list = []\n",
    "        for basis_func in self.basis_func:\n",
    "            if basis_func == \"linear\":\n",
    "                x_list.append(X)\n",
    "            elif basis_func == \"rbf\":\n",
    "                x_list.append(np.exp(-0.5 * X * X))\n",
    "            elif basis_func == \"sigmoid\":\n",
    "                x_list.append(1 / (1 + np.exp(-1 * X)))\n",
    "            elif basis_func.startswith(\"poly\"):\n",
    "                p = int(basis_func.split(\"_\")[1])\n",
    "                for pow in range(1, p + 1):\n",
    "                    x_list.append(np.power(X, pow))\n",
    "            elif basis_func == 'fm':\n",
    "                X_fm = np.zeros(shape=(n_sample, int(n_feature * (n_feature - 1) / 2)))\n",
    "                c = 0\n",
    "                for i in range(0, n_feature - 1):\n",
    "                    for j in range(i + 1, n_feature):\n",
    "                        X_fm[:, c] = X[:, i] * X[:, j]\n",
    "                        c += 1\n",
    "                x_list.append(X_fm)\n",
    "        return np.concatenate(x_list, axis=1)\n",
    "\n",
    "    def fit(self, X, y):\n",
    "        self.feature_mean = np.mean(X, axis=0)\n",
    "        self.feature_std = np.std(X, axis=0) + 1e-8\n",
    "        X_ = (X - self.feature_mean) / self.feature_std\n",
    "        X_ = self._map_basis(X_)\n",
    "        X_ = np.c_[np.ones(X_.shape[0]), X_]\n",
    "        n_sample, n_feature = X_.shape\n",
    "\n",
    "        E_alpha = 1.0\n",
    "        E_beta = 1.0\n",
    "        current_w = None\n",
    "        for _ in range(0, self.epochs):\n",
    "            S_N = np.linalg.inv(E_alpha * np.eye(n_feature) + E_beta * X_.T @ X_)\n",
    "            self.w = E_beta * S_N @ X_.T @ y.reshape((-1, 1))  # 即m_N\n",
    "            if current_w is not None and np.mean(np.abs(current_w - self.w)) < self.tol:\n",
    "                break\n",
    "            current_w = self.w\n",
    "            # 更新 E_alph,E_beta\n",
    "            E_w = (self.w.T @ self.w)[0][0] + np.trace(S_N)\n",
    "            E_alpha = (n_feature - 1) / E_w  # 这里假设a_0,b_0都为0\n",
    "            E_w_phi = np.dot(y.reshape(-1), y.reshape(-1)) + np.sum(X_ @ S_N * X_) + (self.w.T @ X_.T @ X_ @ self.w)[0][\n",
    "                0] - 2 * (self.w.T @ X_.T @ y.reshape((-1, 1)))[0][0]\n",
    "            E_beta = (n_sample - 1) / E_w_phi  # 这里假设a_1,b_1都为0\n",
    "            \n",
    "        # ml_models.vi包中，没有这一部分\n",
    "        return E_alpha, E_beta\n",
    "\n",
    "    def predict(self, X):\n",
    "        X_ = (X - self.feature_mean) / self.feature_std\n",
    "        X_ = self._map_basis(X_)\n",
    "        X_ = np.c_[np.ones(X_.shape[0]), X_]\n",
    "        return (self.w.T @ X_.T).reshape(-1)\n",
    "\n",
    "    def plot_fit_boundary(self, x, y):\n",
    "        \"\"\"\n",
    "        绘制拟合结果\n",
    "        :param x:\n",
    "        :param y:\n",
    "        :return:\n",
    "        \"\"\"\n",
    "        plt.scatter(x[:, 0], y)\n",
    "        plt.plot(x[:, 0], self.predict(x), 'r')"
   ]
  },
  {
   "cell_type": "markdown",
   "metadata": {},
   "source": [
    "### 六.测试"
   ]
  },
  {
   "cell_type": "code",
   "execution_count": 2,
   "metadata": {},
   "outputs": [],
   "source": [
    "#造伪样本\n",
    "X=np.linspace(0,100,100)\n",
    "X=np.c_[X,np.ones(100)]\n",
    "w=np.asarray([3,2])\n",
    "Y=X.dot(w)\n",
    "X=X.astype('float')\n",
    "Y=Y.astype('float')\n",
    "X[:,0]+=np.random.normal(size=(X[:,0].shape))*3#添加噪声\n",
    "Y=Y.reshape(100,1)"
   ]
  },
  {
   "cell_type": "code",
   "execution_count": 3,
   "metadata": {},
   "outputs": [],
   "source": [
    "#加噪声\n",
    "X=np.concatenate([X,np.asanyarray([[100,1],[101,1],[102,1],[103,1],[104,1]])])\n",
    "Y=np.concatenate([Y,np.asanyarray([[3000],[3300],[3600],[3800],[3900]])])"
   ]
  },
  {
   "cell_type": "code",
   "execution_count": 4,
   "metadata": {},
   "outputs": [
    {
     "data": {
      "image/png": "[encoded data removed]",
      "text/plain": [
       "<matplotlib.figure.Figure at 0x179c865df98>"
      ]
     },
     "metadata": {},
     "output_type": "display_data"
    }
   ],
   "source": [
    "%matplotlib inline\n",
    "lr=LinearRegression()\n",
    "alpha,beta=lr.fit(X[:,:-1],Y)\n",
    "lr.plot_fit_boundary(X[:,:-1],Y)"
   ]
  },
  {
   "cell_type": "code",
   "execution_count": 5,
   "metadata": {},
   "outputs": [
    {
     "data": {
      "text/plain": [
       "2.0081038570209815"
      ]
     },
     "execution_count": 5,
     "metadata": {},
     "output_type": "execute_result"
    }
   ],
   "source": [
    "alpha/beta"
   ]
  },
  {
   "cell_type": "markdown",
   "metadata": {},
   "source": [
    "可以发现L2正则化项的约束还没有证据近似的结果紧...，有些忧伤....，该问题留到后面再优化..."
   ]
  },
  {
   "cell_type": "code",
   "execution_count": null,
   "metadata": {},
   "outputs": [],
   "source": []
  }
 ],
 "metadata": {
  "kernelspec": {
   "display_name": "Python 3",
   "language": "python",
   "name": "python3"
  },
  "language_info": {
   "codemirror_mode": {
    "name": "ipython",
    "version": 3
   },
   "file_extension": ".py",
   "mimetype": "text/x-python",
   "name": "python",
   "nbconvert_exporter": "python",
   "pygments_lexer": "ipython3",
   "version": "3.6.4"
  }
 },
 "nbformat": 4,
 "nbformat_minor": 2
}
