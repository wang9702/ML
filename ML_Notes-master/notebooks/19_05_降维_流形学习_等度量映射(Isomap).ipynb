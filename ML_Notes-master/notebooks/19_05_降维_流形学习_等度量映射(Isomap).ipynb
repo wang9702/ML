{
 "cells": [
  {
   "cell_type": "markdown",
   "metadata": {},
   "source": [
    "### 一.基本思路：局部距离替换高维空间距离\n",
    "\n",
    "上一节MDS中，我们构建原始高维空间的距离直接采用了欧氏距离，但这在流形结构数据中往往有问题，如下图所示，黑线长度便是欧氏距离，而采用红线来表示距离可能会更加合理\n",
    "![avatar](./source/19_isomap1.png)\n",
    "所以核心问题便是如何计算红色线距离，这可以转换为计算近邻图上两点之间的最短距离问题，操作如下：   \n",
    "\n",
    "（1）对样本中的每个点，保留与它最近的$k$个点（或者$\\varepsilon$领域半径内的点）的欧氏距离，而其他点的距离设置为无穷大；   \n",
    "\n",
    "（2）采用Dijkstra算法或者Floyd算法计算所有样本中任意两点间的最短距离，并更新原始距离矩阵$D$；  \n",
    "\n",
    "而后面的操作同MDS一样，所以这一节的主要操作便是对$D$再运用一次Dijkstra算法/Floyd算法，关于这俩算法这一节就介绍了，笔者可能会放在后续的《数据结构与算法》项目中再做介绍，哈哈哈~\n",
    "\n",
    "### 二.代码实现"
   ]
  },
  {
   "cell_type": "code",
   "execution_count": 1,
   "metadata": {},
   "outputs": [],
   "source": [
    "from matplotlib import pyplot as plt\n",
    "from mpl_toolkits.mplot3d import Axes3D\n",
    "import numpy as np\n",
    "%matplotlib inline"
   ]
  },
  {
   "cell_type": "code",
   "execution_count": 2,
   "metadata": {},
   "outputs": [],
   "source": [
    "def floyd(dist_matrix):\n",
    "    vex_num=len(dist_matrix)  \n",
    "    for k in range(vex_num):\n",
    "        for i in range(vex_num):\n",
    "            for j in range(vex_num):\n",
    "                if dist_matrix[i][k]==np.inf or dist_matrix[k][j]==np.inf:\n",
    "                    temp=np.inf\n",
    "                else:\n",
    "                    temp=dist_matrix[i][k]+dist_matrix[k][j]\n",
    "                if dist_matrix[i][j]>temp:\n",
    "                    dist_matrix[i][j]=temp\n",
    "    return dist_matrix"
   ]
  },
  {
   "cell_type": "markdown",
   "metadata": {},
   "source": [
    "造伪数据"
   ]
  },
  {
   "cell_type": "code",
   "execution_count": 3,
   "metadata": {},
   "outputs": [],
   "source": [
    "n = 200\n",
    "r = np.linspace(0,1,n)\n",
    "l = np.linspace(0,1,n)\n",
    "\n",
    "t = (3 * np.pi) / 2 * ( 1 + 2 * r )\n",
    "x =  t * np.cos(t)\n",
    "y = 10 * l\n",
    "z =t * np.sin(t)\n",
    "data=np.c_[x,y,z]"
   ]
  },
  {
   "cell_type": "markdown",
   "metadata": {},
   "source": [
    "构建原始距离矩阵$D$"
   ]
  },
  {
   "cell_type": "code",
   "execution_count": 4,
   "metadata": {},
   "outputs": [],
   "source": [
    "m=data.shape[0]\n",
    "D=np.zeros(shape=(m,m))\n",
    "for i in range(0,m):\n",
    "    for j in range(i,m):\n",
    "        D[i,j]=np.sqrt(np.sum(np.power(data[i]-data[j],2)))\n",
    "        D[j,i]=D[i,j]"
   ]
  },
  {
   "cell_type": "markdown",
   "metadata": {},
   "source": [
    "使用floyd算法进行更新"
   ]
  },
  {
   "cell_type": "code",
   "execution_count": 5,
   "metadata": {},
   "outputs": [],
   "source": [
    "epsilon=10#领域半径\n",
    "D=np.where(D<epsilon,D,np.inf)"
   ]
  },
  {
   "cell_type": "code",
   "execution_count": 6,
   "metadata": {},
   "outputs": [],
   "source": [
    "D=floyd(D)"
   ]
  },
  {
   "cell_type": "markdown",
   "metadata": {},
   "source": [
    "使用MDS算法"
   ]
  },
  {
   "cell_type": "code",
   "execution_count": 7,
   "metadata": {},
   "outputs": [],
   "source": [
    "import os\n",
    "os.chdir('../')\n",
    "from ml_models.decomposition import MDS"
   ]
  },
  {
   "cell_type": "code",
   "execution_count": 8,
   "metadata": {},
   "outputs": [
    {
     "data": {
      "image/png": "[encoded data removed]",
      "text/plain": [
       "<matplotlib.figure.Figure at 0x233ff4f13c8>"
      ]
     },
     "metadata": {},
     "output_type": "display_data"
    }
   ],
   "source": [
    "mds = MDS(n_components=2)\n",
    "new_data = mds.fit_transform(D=D)\n",
    "plt.scatter(new_data[:, 0], new_data[:, 1])\n",
    "plt.show()"
   ]
  },
  {
   "cell_type": "markdown",
   "metadata": {},
   "source": [
    "代码封装一下到`ml_models.decomposition.Isomap`"
   ]
  },
  {
   "cell_type": "markdown",
   "metadata": {},
   "source": [
    "### 三.问题讨论\n",
    "显然，Isomap会受到最近邻$k$或者近邻半径$\\varepsilon$的影响，选择过大或者过小都有弊端：   \n",
    "\n",
    "（1）过小，可能会存在“断路”的情况，图中某些区域可能与其他区域不存在连接，直观来看就是距离矩阵通过floyd算法更新后还存在`np.inf`；  \n",
    "\n",
    "（2）过大，则会存在“短路”的情况，使得距离失真，比如本节最上图中的黑线距离会取代红线距离；\n",
    "\n",
    "在实际使用时通过后续任务的表现（分类/回归/...任务的具体表现）来选取"
   ]
  },
  {
   "cell_type": "code",
   "execution_count": null,
   "metadata": {},
   "outputs": [],
   "source": []
  }
 ],
 "metadata": {
  "kernelspec": {
   "display_name": "Python 3",
   "language": "python",
   "name": "python3"
  },
  "language_info": {
   "codemirror_mode": {
    "name": "ipython",
    "version": 3
   },
   "file_extension": ".py",
   "mimetype": "text/x-python",
   "name": "python",
   "nbconvert_exporter": "python",
   "pygments_lexer": "ipython3",
   "version": "3.6.4"
  }
 },
 "nbformat": 4,
 "nbformat_minor": 2
}
